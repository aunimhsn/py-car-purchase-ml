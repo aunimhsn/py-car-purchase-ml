{
 "cells": [
  {
   "cell_type": "code",
   "execution_count": 1,
   "metadata": {},
   "outputs": [
    {
     "data": {
      "text/plain": [
       "array([1], dtype=int64)"
      ]
     },
     "execution_count": 1,
     "metadata": {},
     "output_type": "execute_result"
    }
   ],
   "source": [
    "import pandas as pd\n",
    "from sklearn.tree import DecisionTreeClassifier\n",
    "import joblib\n",
    "\n",
    "car_df = pd.read_csv('./data/car-purchase.csv')\n",
    "\n",
    "#Convert male to number 1 and female to number 0\n",
    "car_df['gender'] = car_df['gender'].replace('Male', 1)\n",
    "car_df['gender'] = car_df['gender'].replace('Female', 0)\n",
    "\n",
    "X = car_df[['gender', 'age', 'annual_salary']]\n",
    "y = car_df['purchased']\n",
    "\n",
    "model = DecisionTreeClassifier()\n",
    "model.fit(X.values, y.values)\n",
    "\n",
    "# Predictions\n",
    "predictions = model.predict([[1, 64, 0]])\n",
    "predictions"
   ]
  }
 ],
 "metadata": {
  "kernelspec": {
   "display_name": "ml-venv",
   "language": "python",
   "name": "python3"
  },
  "language_info": {
   "codemirror_mode": {
    "name": "ipython",
    "version": 3
   },
   "file_extension": ".py",
   "mimetype": "text/x-python",
   "name": "python",
   "nbconvert_exporter": "python",
   "pygments_lexer": "ipython3",
   "version": "3.12.0"
  }
 },
 "nbformat": 4,
 "nbformat_minor": 2
}
